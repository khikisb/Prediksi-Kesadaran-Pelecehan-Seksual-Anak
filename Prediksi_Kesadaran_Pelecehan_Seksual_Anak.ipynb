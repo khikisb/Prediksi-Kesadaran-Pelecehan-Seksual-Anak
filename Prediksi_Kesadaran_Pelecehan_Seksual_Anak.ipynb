{
  "cells": [
    {
      "cell_type": "markdown",
      "id": "bc2fb74a",
      "metadata": {
        "papermill": {
          "duration": 0.0132,
          "end_time": "2022-11-16T11:03:09.073700",
          "exception": false,
          "start_time": "2022-11-16T11:03:09.060500",
          "status": "completed"
        },
        "tags": [],
        "id": "bc2fb74a"
      },
      "source": [
        "## Importing Libraries"
      ]
    },
    {
      "cell_type": "code",
      "execution_count": 1,
      "id": "948753fc",
      "metadata": {
        "execution": {
          "iopub.execute_input": "2022-11-16T11:03:09.101827Z",
          "iopub.status.busy": "2022-11-16T11:03:09.101228Z",
          "iopub.status.idle": "2022-11-16T11:03:10.183913Z",
          "shell.execute_reply": "2022-11-16T11:03:10.182475Z"
        },
        "papermill": {
          "duration": 1.101986,
          "end_time": "2022-11-16T11:03:10.187510",
          "exception": false,
          "start_time": "2022-11-16T11:03:09.085524",
          "status": "completed"
        },
        "tags": [],
        "id": "948753fc"
      },
      "outputs": [],
      "source": [
        "import pandas as pd\n",
        "import numpy as np\n",
        "import seaborn as sns\n",
        "import matplotlib.pyplot as plt"
      ]
    },
    {
      "cell_type": "markdown",
      "id": "c250987e",
      "metadata": {
        "papermill": {
          "duration": 0.012449,
          "end_time": "2022-11-16T11:03:10.212989",
          "exception": false,
          "start_time": "2022-11-16T11:03:10.200540",
          "status": "completed"
        },
        "tags": [],
        "id": "c250987e"
      },
      "source": [
        "## Loading dataset"
      ]
    },
    {
      "cell_type": "code",
      "execution_count": 2,
      "id": "2243cd1a",
      "metadata": {
        "execution": {
          "iopub.execute_input": "2022-11-16T11:03:10.238308Z",
          "iopub.status.busy": "2022-11-16T11:03:10.237871Z",
          "iopub.status.idle": "2022-11-16T11:03:10.264293Z",
          "shell.execute_reply": "2022-11-16T11:03:10.263080Z"
        },
        "papermill": {
          "duration": 0.042533,
          "end_time": "2022-11-16T11:03:10.267190",
          "exception": false,
          "start_time": "2022-11-16T11:03:10.224657",
          "status": "completed"
        },
        "tags": [],
        "id": "2243cd1a"
      },
      "outputs": [],
      "source": [
        "df = pd.read_csv('https://gist.githubusercontent.com/khikisb/744b55e7bf1d3c0dc6d662beaa71a640/raw/ed858eda77687465199859455d3bc8a6953173a4/CSA-Data.csv')"
      ]
    },
    {
      "cell_type": "markdown",
      "id": "6b872818",
      "metadata": {
        "papermill": {
          "duration": 0.012604,
          "end_time": "2022-11-16T11:03:10.292886",
          "exception": false,
          "start_time": "2022-11-16T11:03:10.280282",
          "status": "completed"
        },
        "tags": [],
        "id": "6b872818"
      },
      "source": [
        "## Dataset Preprocessing"
      ]
    },
    {
      "cell_type": "code",
      "execution_count": 3,
      "id": "b40ca1de",
      "metadata": {
        "execution": {
          "iopub.execute_input": "2022-11-16T11:03:10.319433Z",
          "iopub.status.busy": "2022-11-16T11:03:10.318975Z",
          "iopub.status.idle": "2022-11-16T11:03:10.343835Z",
          "shell.execute_reply": "2022-11-16T11:03:10.342672Z"
        },
        "papermill": {
          "duration": 0.041253,
          "end_time": "2022-11-16T11:03:10.346547",
          "exception": false,
          "start_time": "2022-11-16T11:03:10.305294",
          "status": "completed"
        },
        "tags": [],
        "colab": {
          "base_uri": "https://localhost:8080/",
          "height": 354
        },
        "id": "b40ca1de",
        "outputId": "9d461fdc-5e0e-4649-f630-9cb8990edae4"
      },
      "outputs": [
        {
          "output_type": "execute_result",
          "data": {
            "text/plain": [
              "  \"Children are safe among family members such as grandparents, uncles, aunts, cousins\"  \\\n",
              "0                                              Agree                                      \n",
              "1                                              Agree                                      \n",
              "2                                           Disagree                                      \n",
              "3                                              Agree                                      \n",
              "4                                              Agree                                      \n",
              "\n",
              "  \"Children are mainly abused by strangers in our society\"  \\\n",
              "0                                              Agree         \n",
              "1                                              Agree         \n",
              "2                                           Disagree         \n",
              "3                                              Agree         \n",
              "4                                           Disagree         \n",
              "\n",
              "  Male children dont need sexual abuse prevention knowledge  \\\n",
              "0                                           Disagree          \n",
              "1                                           Disagree          \n",
              "2                                           Disagree          \n",
              "3                                           Disagree          \n",
              "4                                           Disagree          \n",
              "\n",
              "  \"Teaching sexual abuse prevention in school is not necessary. It will make children curious about sex\"  \\\n",
              "0                                              Agree                                                       \n",
              "1                                           Disagree                                                       \n",
              "2                                           Disagree                                                       \n",
              "3                                           Disagree                                                       \n",
              "4                                           Disagree                                                       \n",
              "\n",
              "  Do you know what child grooming is?  \\\n",
              "0                                  No   \n",
              "1                                  No   \n",
              "2                                  No   \n",
              "3                                  No   \n",
              "4                                 Yes   \n",
              "\n",
              "  Do you know what signs to look for to identify if your child has been abused?  \\\n",
              "0                                                 No                              \n",
              "1                                                 No                              \n",
              "2                                                 No                              \n",
              "3                                                 No                              \n",
              "4                                                Yes                              \n",
              "\n",
              "  Do you think children need post abuse counseling for recovering?  \\\n",
              "0                                                 No                 \n",
              "1                                                Yes                 \n",
              "2                                                Yes                 \n",
              "3                                                Yes                 \n",
              "4                                                Yes                 \n",
              "\n",
              "  Do you think you should take legal action against the abuser of your child?  \\\n",
              "0                                                Yes                            \n",
              "1                                                Yes                            \n",
              "2                                                Yes                            \n",
              "3                                                Yes                            \n",
              "4                                                Yes                            \n",
              "\n",
              "  Knowledge Level  \n",
              "0        Beginner  \n",
              "1        Beginner  \n",
              "2        Beginner  \n",
              "3        Beginner  \n",
              "4    Intermediate  "
            ],
            "text/html": [
              "\n",
              "  <div id=\"df-0ebd4f56-8d0d-4609-a8fb-54c64efd3fe5\">\n",
              "    <div class=\"colab-df-container\">\n",
              "      <div>\n",
              "<style scoped>\n",
              "    .dataframe tbody tr th:only-of-type {\n",
              "        vertical-align: middle;\n",
              "    }\n",
              "\n",
              "    .dataframe tbody tr th {\n",
              "        vertical-align: top;\n",
              "    }\n",
              "\n",
              "    .dataframe thead th {\n",
              "        text-align: right;\n",
              "    }\n",
              "</style>\n",
              "<table border=\"1\" class=\"dataframe\">\n",
              "  <thead>\n",
              "    <tr style=\"text-align: right;\">\n",
              "      <th></th>\n",
              "      <th>\"Children are safe among family members such as grandparents, uncles, aunts, cousins\"</th>\n",
              "      <th>\"Children are mainly abused by strangers in our society\"</th>\n",
              "      <th>Male children dont need sexual abuse prevention knowledge</th>\n",
              "      <th>\"Teaching sexual abuse prevention in school is not necessary. It will make children curious about sex\"</th>\n",
              "      <th>Do you know what child grooming is?</th>\n",
              "      <th>Do you know what signs to look for to identify if your child has been abused?</th>\n",
              "      <th>Do you think children need post abuse counseling for recovering?</th>\n",
              "      <th>Do you think you should take legal action against the abuser of your child?</th>\n",
              "      <th>Knowledge Level</th>\n",
              "    </tr>\n",
              "  </thead>\n",
              "  <tbody>\n",
              "    <tr>\n",
              "      <th>0</th>\n",
              "      <td>Agree</td>\n",
              "      <td>Agree</td>\n",
              "      <td>Disagree</td>\n",
              "      <td>Agree</td>\n",
              "      <td>No</td>\n",
              "      <td>No</td>\n",
              "      <td>No</td>\n",
              "      <td>Yes</td>\n",
              "      <td>Beginner</td>\n",
              "    </tr>\n",
              "    <tr>\n",
              "      <th>1</th>\n",
              "      <td>Agree</td>\n",
              "      <td>Agree</td>\n",
              "      <td>Disagree</td>\n",
              "      <td>Disagree</td>\n",
              "      <td>No</td>\n",
              "      <td>No</td>\n",
              "      <td>Yes</td>\n",
              "      <td>Yes</td>\n",
              "      <td>Beginner</td>\n",
              "    </tr>\n",
              "    <tr>\n",
              "      <th>2</th>\n",
              "      <td>Disagree</td>\n",
              "      <td>Disagree</td>\n",
              "      <td>Disagree</td>\n",
              "      <td>Disagree</td>\n",
              "      <td>No</td>\n",
              "      <td>No</td>\n",
              "      <td>Yes</td>\n",
              "      <td>Yes</td>\n",
              "      <td>Beginner</td>\n",
              "    </tr>\n",
              "    <tr>\n",
              "      <th>3</th>\n",
              "      <td>Agree</td>\n",
              "      <td>Agree</td>\n",
              "      <td>Disagree</td>\n",
              "      <td>Disagree</td>\n",
              "      <td>No</td>\n",
              "      <td>No</td>\n",
              "      <td>Yes</td>\n",
              "      <td>Yes</td>\n",
              "      <td>Beginner</td>\n",
              "    </tr>\n",
              "    <tr>\n",
              "      <th>4</th>\n",
              "      <td>Agree</td>\n",
              "      <td>Disagree</td>\n",
              "      <td>Disagree</td>\n",
              "      <td>Disagree</td>\n",
              "      <td>Yes</td>\n",
              "      <td>Yes</td>\n",
              "      <td>Yes</td>\n",
              "      <td>Yes</td>\n",
              "      <td>Intermediate</td>\n",
              "    </tr>\n",
              "  </tbody>\n",
              "</table>\n",
              "</div>\n",
              "      <button class=\"colab-df-convert\" onclick=\"convertToInteractive('df-0ebd4f56-8d0d-4609-a8fb-54c64efd3fe5')\"\n",
              "              title=\"Convert this dataframe to an interactive table.\"\n",
              "              style=\"display:none;\">\n",
              "        \n",
              "  <svg xmlns=\"http://www.w3.org/2000/svg\" height=\"24px\"viewBox=\"0 0 24 24\"\n",
              "       width=\"24px\">\n",
              "    <path d=\"M0 0h24v24H0V0z\" fill=\"none\"/>\n",
              "    <path d=\"M18.56 5.44l.94 2.06.94-2.06 2.06-.94-2.06-.94-.94-2.06-.94 2.06-2.06.94zm-11 1L8.5 8.5l.94-2.06 2.06-.94-2.06-.94L8.5 2.5l-.94 2.06-2.06.94zm10 10l.94 2.06.94-2.06 2.06-.94-2.06-.94-.94-2.06-.94 2.06-2.06.94z\"/><path d=\"M17.41 7.96l-1.37-1.37c-.4-.4-.92-.59-1.43-.59-.52 0-1.04.2-1.43.59L10.3 9.45l-7.72 7.72c-.78.78-.78 2.05 0 2.83L4 21.41c.39.39.9.59 1.41.59.51 0 1.02-.2 1.41-.59l7.78-7.78 2.81-2.81c.8-.78.8-2.07 0-2.86zM5.41 20L4 18.59l7.72-7.72 1.47 1.35L5.41 20z\"/>\n",
              "  </svg>\n",
              "      </button>\n",
              "      \n",
              "  <style>\n",
              "    .colab-df-container {\n",
              "      display:flex;\n",
              "      flex-wrap:wrap;\n",
              "      gap: 12px;\n",
              "    }\n",
              "\n",
              "    .colab-df-convert {\n",
              "      background-color: #E8F0FE;\n",
              "      border: none;\n",
              "      border-radius: 50%;\n",
              "      cursor: pointer;\n",
              "      display: none;\n",
              "      fill: #1967D2;\n",
              "      height: 32px;\n",
              "      padding: 0 0 0 0;\n",
              "      width: 32px;\n",
              "    }\n",
              "\n",
              "    .colab-df-convert:hover {\n",
              "      background-color: #E2EBFA;\n",
              "      box-shadow: 0px 1px 2px rgba(60, 64, 67, 0.3), 0px 1px 3px 1px rgba(60, 64, 67, 0.15);\n",
              "      fill: #174EA6;\n",
              "    }\n",
              "\n",
              "    [theme=dark] .colab-df-convert {\n",
              "      background-color: #3B4455;\n",
              "      fill: #D2E3FC;\n",
              "    }\n",
              "\n",
              "    [theme=dark] .colab-df-convert:hover {\n",
              "      background-color: #434B5C;\n",
              "      box-shadow: 0px 1px 3px 1px rgba(0, 0, 0, 0.15);\n",
              "      filter: drop-shadow(0px 1px 2px rgba(0, 0, 0, 0.3));\n",
              "      fill: #FFFFFF;\n",
              "    }\n",
              "  </style>\n",
              "\n",
              "      <script>\n",
              "        const buttonEl =\n",
              "          document.querySelector('#df-0ebd4f56-8d0d-4609-a8fb-54c64efd3fe5 button.colab-df-convert');\n",
              "        buttonEl.style.display =\n",
              "          google.colab.kernel.accessAllowed ? 'block' : 'none';\n",
              "\n",
              "        async function convertToInteractive(key) {\n",
              "          const element = document.querySelector('#df-0ebd4f56-8d0d-4609-a8fb-54c64efd3fe5');\n",
              "          const dataTable =\n",
              "            await google.colab.kernel.invokeFunction('convertToInteractive',\n",
              "                                                     [key], {});\n",
              "          if (!dataTable) return;\n",
              "\n",
              "          const docLinkHtml = 'Like what you see? Visit the ' +\n",
              "            '<a target=\"_blank\" href=https://colab.research.google.com/notebooks/data_table.ipynb>data table notebook</a>'\n",
              "            + ' to learn more about interactive tables.';\n",
              "          element.innerHTML = '';\n",
              "          dataTable['output_type'] = 'display_data';\n",
              "          await google.colab.output.renderOutput(dataTable, element);\n",
              "          const docLink = document.createElement('div');\n",
              "          docLink.innerHTML = docLinkHtml;\n",
              "          element.appendChild(docLink);\n",
              "        }\n",
              "      </script>\n",
              "    </div>\n",
              "  </div>\n",
              "  "
            ]
          },
          "metadata": {},
          "execution_count": 3
        }
      ],
      "source": [
        "df.head()"
      ]
    },
    {
      "cell_type": "code",
      "execution_count": 4,
      "id": "e72e642c",
      "metadata": {
        "execution": {
          "iopub.execute_input": "2022-11-16T11:03:10.373097Z",
          "iopub.status.busy": "2022-11-16T11:03:10.372074Z",
          "iopub.status.idle": "2022-11-16T11:03:10.398491Z",
          "shell.execute_reply": "2022-11-16T11:03:10.397278Z"
        },
        "papermill": {
          "duration": 0.042739,
          "end_time": "2022-11-16T11:03:10.401544",
          "exception": false,
          "start_time": "2022-11-16T11:03:10.358805",
          "status": "completed"
        },
        "tags": [],
        "colab": {
          "base_uri": "https://localhost:8080/"
        },
        "id": "e72e642c",
        "outputId": "fe9d093c-b16d-4d0b-e433-615a306039c5"
      },
      "outputs": [
        {
          "output_type": "stream",
          "name": "stdout",
          "text": [
            "<class 'pandas.core.frame.DataFrame'>\n",
            "RangeIndex: 3002 entries, 0 to 3001\n",
            "Data columns (total 9 columns):\n",
            " #   Column                                                                                                  Non-Null Count  Dtype \n",
            "---  ------                                                                                                  --------------  ----- \n",
            " 0   \"Children are safe among family members such as grandparents, uncles, aunts, cousins\"                   3002 non-null   object\n",
            " 1   \"Children are mainly abused by strangers in our society\"                                                3002 non-null   object\n",
            " 2   Male children dont need sexual abuse prevention knowledge                                               3002 non-null   object\n",
            " 3   \"Teaching sexual abuse prevention in school is not necessary. It will make children curious about sex\"  3002 non-null   object\n",
            " 4   Do you know what child grooming is?                                                                     3002 non-null   object\n",
            " 5   Do you know what signs to look for to identify if your child has been abused?                           3002 non-null   object\n",
            " 6   Do you think children need post abuse counseling for recovering?                                        3002 non-null   object\n",
            " 7   Do you think you should take legal action against the abuser of your child?                             3002 non-null   object\n",
            " 8   Knowledge Level                                                                                         3002 non-null   object\n",
            "dtypes: object(9)\n",
            "memory usage: 211.2+ KB\n"
          ]
        }
      ],
      "source": [
        "df.info()"
      ]
    },
    {
      "cell_type": "code",
      "execution_count": 5,
      "id": "fd9cd555",
      "metadata": {
        "execution": {
          "iopub.execute_input": "2022-11-16T11:03:10.429323Z",
          "iopub.status.busy": "2022-11-16T11:03:10.428329Z",
          "iopub.status.idle": "2022-11-16T11:03:10.459427Z",
          "shell.execute_reply": "2022-11-16T11:03:10.458249Z"
        },
        "papermill": {
          "duration": 0.047019,
          "end_time": "2022-11-16T11:03:10.461801",
          "exception": false,
          "start_time": "2022-11-16T11:03:10.414782",
          "status": "completed"
        },
        "tags": [],
        "colab": {
          "base_uri": "https://localhost:8080/",
          "height": 323
        },
        "id": "fd9cd555",
        "outputId": "fdc603af-fa17-4db7-dc90-06467452a5bb"
      },
      "outputs": [
        {
          "output_type": "execute_result",
          "data": {
            "text/plain": [
              "       \"Children are safe among family members such as grandparents, uncles, aunts, cousins\"  \\\n",
              "count                                                3002                                      \n",
              "unique                                                  2                                      \n",
              "top                                              Disagree                                      \n",
              "freq                                                 1632                                      \n",
              "\n",
              "       \"Children are mainly abused by strangers in our society\"  \\\n",
              "count                                                3002         \n",
              "unique                                                  2         \n",
              "top                                              Disagree         \n",
              "freq                                                 1700         \n",
              "\n",
              "       Male children dont need sexual abuse prevention knowledge  \\\n",
              "count                                                3002          \n",
              "unique                                                  2          \n",
              "top                                              Disagree          \n",
              "freq                                                 1908          \n",
              "\n",
              "       \"Teaching sexual abuse prevention in school is not necessary. It will make children curious about sex\"  \\\n",
              "count                                                3002                                                       \n",
              "unique                                                  2                                                       \n",
              "top                                              Disagree                                                       \n",
              "freq                                                 1657                                                       \n",
              "\n",
              "       Do you know what child grooming is?  \\\n",
              "count                                 3002   \n",
              "unique                                   2   \n",
              "top                                     No   \n",
              "freq                                  1626   \n",
              "\n",
              "       Do you know what signs to look for to identify if your child has been abused?  \\\n",
              "count                                                3002                              \n",
              "unique                                                  2                              \n",
              "top                                                    No                              \n",
              "freq                                                 1521                              \n",
              "\n",
              "       Do you think children need post abuse counseling for recovering?  \\\n",
              "count                                                3002                 \n",
              "unique                                                  2                 \n",
              "top                                                   Yes                 \n",
              "freq                                                 2111                 \n",
              "\n",
              "       Do you think you should take legal action against the abuser of your child?  \\\n",
              "count                                                3002                            \n",
              "unique                                                  2                            \n",
              "top                                                   Yes                            \n",
              "freq                                                 1928                            \n",
              "\n",
              "       Knowledge Level  \n",
              "count             3002  \n",
              "unique               2  \n",
              "top           Beginner  \n",
              "freq              1711  "
            ],
            "text/html": [
              "\n",
              "  <div id=\"df-674a8e7b-c4f6-4052-aa7c-94710fd82e45\">\n",
              "    <div class=\"colab-df-container\">\n",
              "      <div>\n",
              "<style scoped>\n",
              "    .dataframe tbody tr th:only-of-type {\n",
              "        vertical-align: middle;\n",
              "    }\n",
              "\n",
              "    .dataframe tbody tr th {\n",
              "        vertical-align: top;\n",
              "    }\n",
              "\n",
              "    .dataframe thead th {\n",
              "        text-align: right;\n",
              "    }\n",
              "</style>\n",
              "<table border=\"1\" class=\"dataframe\">\n",
              "  <thead>\n",
              "    <tr style=\"text-align: right;\">\n",
              "      <th></th>\n",
              "      <th>\"Children are safe among family members such as grandparents, uncles, aunts, cousins\"</th>\n",
              "      <th>\"Children are mainly abused by strangers in our society\"</th>\n",
              "      <th>Male children dont need sexual abuse prevention knowledge</th>\n",
              "      <th>\"Teaching sexual abuse prevention in school is not necessary. It will make children curious about sex\"</th>\n",
              "      <th>Do you know what child grooming is?</th>\n",
              "      <th>Do you know what signs to look for to identify if your child has been abused?</th>\n",
              "      <th>Do you think children need post abuse counseling for recovering?</th>\n",
              "      <th>Do you think you should take legal action against the abuser of your child?</th>\n",
              "      <th>Knowledge Level</th>\n",
              "    </tr>\n",
              "  </thead>\n",
              "  <tbody>\n",
              "    <tr>\n",
              "      <th>count</th>\n",
              "      <td>3002</td>\n",
              "      <td>3002</td>\n",
              "      <td>3002</td>\n",
              "      <td>3002</td>\n",
              "      <td>3002</td>\n",
              "      <td>3002</td>\n",
              "      <td>3002</td>\n",
              "      <td>3002</td>\n",
              "      <td>3002</td>\n",
              "    </tr>\n",
              "    <tr>\n",
              "      <th>unique</th>\n",
              "      <td>2</td>\n",
              "      <td>2</td>\n",
              "      <td>2</td>\n",
              "      <td>2</td>\n",
              "      <td>2</td>\n",
              "      <td>2</td>\n",
              "      <td>2</td>\n",
              "      <td>2</td>\n",
              "      <td>2</td>\n",
              "    </tr>\n",
              "    <tr>\n",
              "      <th>top</th>\n",
              "      <td>Disagree</td>\n",
              "      <td>Disagree</td>\n",
              "      <td>Disagree</td>\n",
              "      <td>Disagree</td>\n",
              "      <td>No</td>\n",
              "      <td>No</td>\n",
              "      <td>Yes</td>\n",
              "      <td>Yes</td>\n",
              "      <td>Beginner</td>\n",
              "    </tr>\n",
              "    <tr>\n",
              "      <th>freq</th>\n",
              "      <td>1632</td>\n",
              "      <td>1700</td>\n",
              "      <td>1908</td>\n",
              "      <td>1657</td>\n",
              "      <td>1626</td>\n",
              "      <td>1521</td>\n",
              "      <td>2111</td>\n",
              "      <td>1928</td>\n",
              "      <td>1711</td>\n",
              "    </tr>\n",
              "  </tbody>\n",
              "</table>\n",
              "</div>\n",
              "      <button class=\"colab-df-convert\" onclick=\"convertToInteractive('df-674a8e7b-c4f6-4052-aa7c-94710fd82e45')\"\n",
              "              title=\"Convert this dataframe to an interactive table.\"\n",
              "              style=\"display:none;\">\n",
              "        \n",
              "  <svg xmlns=\"http://www.w3.org/2000/svg\" height=\"24px\"viewBox=\"0 0 24 24\"\n",
              "       width=\"24px\">\n",
              "    <path d=\"M0 0h24v24H0V0z\" fill=\"none\"/>\n",
              "    <path d=\"M18.56 5.44l.94 2.06.94-2.06 2.06-.94-2.06-.94-.94-2.06-.94 2.06-2.06.94zm-11 1L8.5 8.5l.94-2.06 2.06-.94-2.06-.94L8.5 2.5l-.94 2.06-2.06.94zm10 10l.94 2.06.94-2.06 2.06-.94-2.06-.94-.94-2.06-.94 2.06-2.06.94z\"/><path d=\"M17.41 7.96l-1.37-1.37c-.4-.4-.92-.59-1.43-.59-.52 0-1.04.2-1.43.59L10.3 9.45l-7.72 7.72c-.78.78-.78 2.05 0 2.83L4 21.41c.39.39.9.59 1.41.59.51 0 1.02-.2 1.41-.59l7.78-7.78 2.81-2.81c.8-.78.8-2.07 0-2.86zM5.41 20L4 18.59l7.72-7.72 1.47 1.35L5.41 20z\"/>\n",
              "  </svg>\n",
              "      </button>\n",
              "      \n",
              "  <style>\n",
              "    .colab-df-container {\n",
              "      display:flex;\n",
              "      flex-wrap:wrap;\n",
              "      gap: 12px;\n",
              "    }\n",
              "\n",
              "    .colab-df-convert {\n",
              "      background-color: #E8F0FE;\n",
              "      border: none;\n",
              "      border-radius: 50%;\n",
              "      cursor: pointer;\n",
              "      display: none;\n",
              "      fill: #1967D2;\n",
              "      height: 32px;\n",
              "      padding: 0 0 0 0;\n",
              "      width: 32px;\n",
              "    }\n",
              "\n",
              "    .colab-df-convert:hover {\n",
              "      background-color: #E2EBFA;\n",
              "      box-shadow: 0px 1px 2px rgba(60, 64, 67, 0.3), 0px 1px 3px 1px rgba(60, 64, 67, 0.15);\n",
              "      fill: #174EA6;\n",
              "    }\n",
              "\n",
              "    [theme=dark] .colab-df-convert {\n",
              "      background-color: #3B4455;\n",
              "      fill: #D2E3FC;\n",
              "    }\n",
              "\n",
              "    [theme=dark] .colab-df-convert:hover {\n",
              "      background-color: #434B5C;\n",
              "      box-shadow: 0px 1px 3px 1px rgba(0, 0, 0, 0.15);\n",
              "      filter: drop-shadow(0px 1px 2px rgba(0, 0, 0, 0.3));\n",
              "      fill: #FFFFFF;\n",
              "    }\n",
              "  </style>\n",
              "\n",
              "      <script>\n",
              "        const buttonEl =\n",
              "          document.querySelector('#df-674a8e7b-c4f6-4052-aa7c-94710fd82e45 button.colab-df-convert');\n",
              "        buttonEl.style.display =\n",
              "          google.colab.kernel.accessAllowed ? 'block' : 'none';\n",
              "\n",
              "        async function convertToInteractive(key) {\n",
              "          const element = document.querySelector('#df-674a8e7b-c4f6-4052-aa7c-94710fd82e45');\n",
              "          const dataTable =\n",
              "            await google.colab.kernel.invokeFunction('convertToInteractive',\n",
              "                                                     [key], {});\n",
              "          if (!dataTable) return;\n",
              "\n",
              "          const docLinkHtml = 'Like what you see? Visit the ' +\n",
              "            '<a target=\"_blank\" href=https://colab.research.google.com/notebooks/data_table.ipynb>data table notebook</a>'\n",
              "            + ' to learn more about interactive tables.';\n",
              "          element.innerHTML = '';\n",
              "          dataTable['output_type'] = 'display_data';\n",
              "          await google.colab.output.renderOutput(dataTable, element);\n",
              "          const docLink = document.createElement('div');\n",
              "          docLink.innerHTML = docLinkHtml;\n",
              "          element.appendChild(docLink);\n",
              "        }\n",
              "      </script>\n",
              "    </div>\n",
              "  </div>\n",
              "  "
            ]
          },
          "metadata": {},
          "execution_count": 5
        }
      ],
      "source": [
        "df.describe()"
      ]
    },
    {
      "cell_type": "markdown",
      "id": "eba90337",
      "metadata": {
        "papermill": {
          "duration": 0.012066,
          "end_time": "2022-11-16T11:03:10.486444",
          "exception": false,
          "start_time": "2022-11-16T11:03:10.474378",
          "status": "completed"
        },
        "tags": [],
        "id": "eba90337"
      },
      "source": [
        "### Checking for null values"
      ]
    },
    {
      "cell_type": "code",
      "execution_count": 6,
      "id": "0466528f",
      "metadata": {
        "execution": {
          "iopub.execute_input": "2022-11-16T11:03:10.512775Z",
          "iopub.status.busy": "2022-11-16T11:03:10.512380Z",
          "iopub.status.idle": "2022-11-16T11:03:10.522242Z",
          "shell.execute_reply": "2022-11-16T11:03:10.521136Z"
        },
        "papermill": {
          "duration": 0.02582,
          "end_time": "2022-11-16T11:03:10.524553",
          "exception": false,
          "start_time": "2022-11-16T11:03:10.498733",
          "status": "completed"
        },
        "tags": [],
        "colab": {
          "base_uri": "https://localhost:8080/"
        },
        "id": "0466528f",
        "outputId": "8e364379-51d6-4a54-af1b-4dab60f5ee37"
      },
      "outputs": [
        {
          "output_type": "execute_result",
          "data": {
            "text/plain": [
              "\"Children are safe among family members such as grandparents, uncles, aunts, cousins\"                     0\n",
              "\"Children are mainly abused by strangers in our society\"                                                  0\n",
              "Male children dont need sexual abuse prevention knowledge                                                 0\n",
              "\"Teaching sexual abuse prevention in school is not necessary. It will make children curious about sex\"    0\n",
              "Do you know what child grooming is?                                                                       0\n",
              "Do you know what signs to look for to identify if your child has been abused?                             0\n",
              "Do you think children need post abuse counseling for recovering?                                          0\n",
              "Do you think you should take legal action against the abuser of your child?                               0\n",
              "Knowledge Level                                                                                           0\n",
              "dtype: int64"
            ]
          },
          "metadata": {},
          "execution_count": 6
        }
      ],
      "source": [
        "df.isnull().sum()"
      ]
    },
    {
      "cell_type": "code",
      "execution_count": 7,
      "id": "a2e568a5",
      "metadata": {
        "execution": {
          "iopub.execute_input": "2022-11-16T11:03:10.551306Z",
          "iopub.status.busy": "2022-11-16T11:03:10.550881Z",
          "iopub.status.idle": "2022-11-16T11:03:10.792683Z",
          "shell.execute_reply": "2022-11-16T11:03:10.791830Z"
        },
        "papermill": {
          "duration": 0.258424,
          "end_time": "2022-11-16T11:03:10.795249",
          "exception": false,
          "start_time": "2022-11-16T11:03:10.536825",
          "status": "completed"
        },
        "tags": [],
        "colab": {
          "base_uri": "https://localhost:8080/",
          "height": 354
        },
        "id": "a2e568a5",
        "outputId": "9043da90-e7da-4c00-ef18-f1aaf101a59e"
      },
      "outputs": [
        {
          "output_type": "stream",
          "name": "stderr",
          "text": [
            "/usr/local/lib/python3.7/dist-packages/seaborn/_decorators.py:43: FutureWarning: Pass the following variable as a keyword arg: x. From version 0.12, the only valid positional argument will be `data`, and passing other arguments without an explicit keyword will result in an error or misinterpretation.\n",
            "  FutureWarning\n"
          ]
        },
        {
          "output_type": "execute_result",
          "data": {
            "text/plain": [
              "<matplotlib.axes._subplots.AxesSubplot at 0x7f453a2c5510>"
            ]
          },
          "metadata": {},
          "execution_count": 7
        },
        {
          "output_type": "display_data",
          "data": {
            "text/plain": [
              "<Figure size 432x288 with 1 Axes>"
            ],
            "image/png": "[encoded data removed]"
          },
          "metadata": {
            "needs_background": "light"
          }
        }
      ],
      "source": [
        "sns.countplot(df['Knowledge Level'])"
      ]
    },
    {
      "cell_type": "code",
      "execution_count": 8,
      "id": "bed9dea0",
      "metadata": {
        "execution": {
          "iopub.execute_input": "2022-11-16T11:03:10.825290Z",
          "iopub.status.busy": "2022-11-16T11:03:10.824159Z",
          "iopub.status.idle": "2022-11-16T11:03:10.831094Z",
          "shell.execute_reply": "2022-11-16T11:03:10.830157Z"
        },
        "papermill": {
          "duration": 0.023945,
          "end_time": "2022-11-16T11:03:10.833409",
          "exception": false,
          "start_time": "2022-11-16T11:03:10.809464",
          "status": "completed"
        },
        "tags": [],
        "colab": {
          "base_uri": "https://localhost:8080/"
        },
        "id": "bed9dea0",
        "outputId": "8a763167-08d7-4f58-e480-1eaae2cb4cd5"
      },
      "outputs": [
        {
          "output_type": "execute_result",
          "data": {
            "text/plain": [
              "Index(['\"Children are safe among family members such as grandparents, uncles, aunts, cousins\"',\n",
              "       '\"Children are mainly abused by strangers in our society\"',\n",
              "       'Male children dont need sexual abuse prevention knowledge',\n",
              "       '\"Teaching sexual abuse prevention in school is not necessary. It will make children curious about sex\"',\n",
              "       'Do you know what child grooming is?',\n",
              "       'Do you know what signs to look for to identify if your child has been abused?',\n",
              "       'Do you think children need post abuse counseling for recovering?',\n",
              "       'Do you think you should take legal action against the abuser of your child?',\n",
              "       'Knowledge Level'],\n",
              "      dtype='object')"
            ]
          },
          "metadata": {},
          "execution_count": 8
        }
      ],
      "source": [
        "df.columns"
      ]
    },
    {
      "cell_type": "markdown",
      "id": "51281595",
      "metadata": {
        "papermill": {
          "duration": 0.012645,
          "end_time": "2022-11-16T11:03:10.859098",
          "exception": false,
          "start_time": "2022-11-16T11:03:10.846453",
          "status": "completed"
        },
        "tags": [],
        "id": "51281595"
      },
      "source": [
        "As the questionnaires are very long,\n",
        "it is very inefficient to write columns names everytime.\n",
        "So, we will set column names as simple as possible."
      ]
    },
    {
      "cell_type": "code",
      "execution_count": 9,
      "id": "027fa08a",
      "metadata": {
        "execution": {
          "iopub.execute_input": "2022-11-16T11:03:10.887632Z",
          "iopub.status.busy": "2022-11-16T11:03:10.886653Z",
          "iopub.status.idle": "2022-11-16T11:03:10.892948Z",
          "shell.execute_reply": "2022-11-16T11:03:10.892095Z"
        },
        "papermill": {
          "duration": 0.022658,
          "end_time": "2022-11-16T11:03:10.895261",
          "exception": false,
          "start_time": "2022-11-16T11:03:10.872603",
          "status": "completed"
        },
        "tags": [],
        "id": "027fa08a"
      },
      "outputs": [],
      "source": [
        "q1 = '\"Children are safe among family members such as grandparents, uncles, aunts, cousins\"'\n",
        "q2 = '\"Children are mainly abused by strangers in our society\"'\n",
        "q3 = 'Male children dont need sexual abuse prevention knowledge'\n",
        "q4 = '\"Teaching sexual abuse prevention in school is not necessary. It will make children curious about sex\"'\n",
        "q5 = 'Do you know what child grooming is?'\n",
        "q6 = 'Do you know what signs to look for to identify if your child has been abused?'\n",
        "q7 = 'Do you think children need post abuse counseling for recovering?'\n",
        "q8 = 'Do you think you should take legal action against the abuser of your child?'"
      ]
    },
    {
      "cell_type": "code",
      "execution_count": 10,
      "id": "22cbd7cd",
      "metadata": {
        "execution": {
          "iopub.execute_input": "2022-11-16T11:03:10.922971Z",
          "iopub.status.busy": "2022-11-16T11:03:10.922552Z",
          "iopub.status.idle": "2022-11-16T11:03:10.927426Z",
          "shell.execute_reply": "2022-11-16T11:03:10.926297Z"
        },
        "papermill": {
          "duration": 0.021609,
          "end_time": "2022-11-16T11:03:10.929820",
          "exception": false,
          "start_time": "2022-11-16T11:03:10.908211",
          "status": "completed"
        },
        "tags": [],
        "id": "22cbd7cd"
      },
      "outputs": [],
      "source": [
        "text_to_id ={\n",
        "    \"Agree\":1,\n",
        "    \"Disagree\":0,\n",
        "    \"No\": 0,\n",
        "    \"Yes\":1\n",
        "}"
      ]
    },
    {
      "cell_type": "code",
      "execution_count": 11,
      "id": "afc7c4ac",
      "metadata": {
        "execution": {
          "iopub.execute_input": "2022-11-16T11:03:10.958285Z",
          "iopub.status.busy": "2022-11-16T11:03:10.957798Z",
          "iopub.status.idle": "2022-11-16T11:03:10.974985Z",
          "shell.execute_reply": "2022-11-16T11:03:10.974088Z"
        },
        "papermill": {
          "duration": 0.034042,
          "end_time": "2022-11-16T11:03:10.977146",
          "exception": false,
          "start_time": "2022-11-16T11:03:10.943104",
          "status": "completed"
        },
        "tags": [],
        "id": "afc7c4ac"
      },
      "outputs": [],
      "source": [
        "df[q1] =  df[q1].map(text_to_id)\n",
        "df[q2] =  df[q2].map(text_to_id)\n",
        "df[q3] =  df[q3].map(text_to_id)\n",
        "df[q4] =  df[q4].map(text_to_id)\n",
        "df[q5] =  df[q5].map(text_to_id)\n",
        "df[q6] =  df[q6].map(text_to_id)\n",
        "df[q7] =  df[q7].map(text_to_id)\n",
        "df[q8] =  df[q8].map(text_to_id)"
      ]
    },
    {
      "cell_type": "code",
      "execution_count": 12,
      "id": "986bdca8",
      "metadata": {
        "execution": {
          "iopub.execute_input": "2022-11-16T11:03:11.005578Z",
          "iopub.status.busy": "2022-11-16T11:03:11.004480Z",
          "iopub.status.idle": "2022-11-16T11:03:11.017626Z",
          "shell.execute_reply": "2022-11-16T11:03:11.016626Z"
        },
        "papermill": {
          "duration": 0.029246,
          "end_time": "2022-11-16T11:03:11.019641",
          "exception": false,
          "start_time": "2022-11-16T11:03:10.990395",
          "status": "completed"
        },
        "tags": [],
        "colab": {
          "base_uri": "https://localhost:8080/",
          "height": 354
        },
        "id": "986bdca8",
        "outputId": "17bff5a0-de19-4af2-b2c7-77115bcc26b0"
      },
      "outputs": [
        {
          "output_type": "execute_result",
          "data": {
            "text/plain": [
              "   \"Children are safe among family members such as grandparents, uncles, aunts, cousins\"  \\\n",
              "0                                                  1                                       \n",
              "1                                                  1                                       \n",
              "2                                                  0                                       \n",
              "3                                                  1                                       \n",
              "4                                                  1                                       \n",
              "\n",
              "   \"Children are mainly abused by strangers in our society\"  \\\n",
              "0                                                  1          \n",
              "1                                                  1          \n",
              "2                                                  0          \n",
              "3                                                  1          \n",
              "4                                                  0          \n",
              "\n",
              "   Male children dont need sexual abuse prevention knowledge  \\\n",
              "0                                                  0           \n",
              "1                                                  0           \n",
              "2                                                  0           \n",
              "3                                                  0           \n",
              "4                                                  0           \n",
              "\n",
              "   \"Teaching sexual abuse prevention in school is not necessary. It will make children curious about sex\"  \\\n",
              "0                                                  1                                                        \n",
              "1                                                  0                                                        \n",
              "2                                                  0                                                        \n",
              "3                                                  0                                                        \n",
              "4                                                  0                                                        \n",
              "\n",
              "   Do you know what child grooming is?  \\\n",
              "0                                    0   \n",
              "1                                    0   \n",
              "2                                    0   \n",
              "3                                    0   \n",
              "4                                    1   \n",
              "\n",
              "   Do you know what signs to look for to identify if your child has been abused?  \\\n",
              "0                                                  0                               \n",
              "1                                                  0                               \n",
              "2                                                  0                               \n",
              "3                                                  0                               \n",
              "4                                                  1                               \n",
              "\n",
              "   Do you think children need post abuse counseling for recovering?  \\\n",
              "0                                                  0                  \n",
              "1                                                  1                  \n",
              "2                                                  1                  \n",
              "3                                                  1                  \n",
              "4                                                  1                  \n",
              "\n",
              "   Do you think you should take legal action against the abuser of your child?  \\\n",
              "0                                                  1                             \n",
              "1                                                  1                             \n",
              "2                                                  1                             \n",
              "3                                                  1                             \n",
              "4                                                  1                             \n",
              "\n",
              "  Knowledge Level  \n",
              "0        Beginner  \n",
              "1        Beginner  \n",
              "2        Beginner  \n",
              "3        Beginner  \n",
              "4    Intermediate  "
            ],
            "text/html": [
              "\n",
              "  <div id=\"df-595262ed-0dc5-4618-88af-b8a7e3097219\">\n",
              "    <div class=\"colab-df-container\">\n",
              "      <div>\n",
              "<style scoped>\n",
              "    .dataframe tbody tr th:only-of-type {\n",
              "        vertical-align: middle;\n",
              "    }\n",
              "\n",
              "    .dataframe tbody tr th {\n",
              "        vertical-align: top;\n",
              "    }\n",
              "\n",
              "    .dataframe thead th {\n",
              "        text-align: right;\n",
              "    }\n",
              "</style>\n",
              "<table border=\"1\" class=\"dataframe\">\n",
              "  <thead>\n",
              "    <tr style=\"text-align: right;\">\n",
              "      <th></th>\n",
              "      <th>\"Children are safe among family members such as grandparents, uncles, aunts, cousins\"</th>\n",
              "      <th>\"Children are mainly abused by strangers in our society\"</th>\n",
              "      <th>Male children dont need sexual abuse prevention knowledge</th>\n",
              "      <th>\"Teaching sexual abuse prevention in school is not necessary. It will make children curious about sex\"</th>\n",
              "      <th>Do you know what child grooming is?</th>\n",
              "      <th>Do you know what signs to look for to identify if your child has been abused?</th>\n",
              "      <th>Do you think children need post abuse counseling for recovering?</th>\n",
              "      <th>Do you think you should take legal action against the abuser of your child?</th>\n",
              "      <th>Knowledge Level</th>\n",
              "    </tr>\n",
              "  </thead>\n",
              "  <tbody>\n",
              "    <tr>\n",
              "      <th>0</th>\n",
              "      <td>1</td>\n",
              "      <td>1</td>\n",
              "      <td>0</td>\n",
              "      <td>1</td>\n",
              "      <td>0</td>\n",
              "      <td>0</td>\n",
              "      <td>0</td>\n",
              "      <td>1</td>\n",
              "      <td>Beginner</td>\n",
              "    </tr>\n",
              "    <tr>\n",
              "      <th>1</th>\n",
              "      <td>1</td>\n",
              "      <td>1</td>\n",
              "      <td>0</td>\n",
              "      <td>0</td>\n",
              "      <td>0</td>\n",
              "      <td>0</td>\n",
              "      <td>1</td>\n",
              "      <td>1</td>\n",
              "      <td>Beginner</td>\n",
              "    </tr>\n",
              "    <tr>\n",
              "      <th>2</th>\n",
              "      <td>0</td>\n",
              "      <td>0</td>\n",
              "      <td>0</td>\n",
              "      <td>0</td>\n",
              "      <td>0</td>\n",
              "      <td>0</td>\n",
              "      <td>1</td>\n",
              "      <td>1</td>\n",
              "      <td>Beginner</td>\n",
              "    </tr>\n",
              "    <tr>\n",
              "      <th>3</th>\n",
              "      <td>1</td>\n",
              "      <td>1</td>\n",
              "      <td>0</td>\n",
              "      <td>0</td>\n",
              "      <td>0</td>\n",
              "      <td>0</td>\n",
              "      <td>1</td>\n",
              "      <td>1</td>\n",
              "      <td>Beginner</td>\n",
              "    </tr>\n",
              "    <tr>\n",
              "      <th>4</th>\n",
              "      <td>1</td>\n",
              "      <td>0</td>\n",
              "      <td>0</td>\n",
              "      <td>0</td>\n",
              "      <td>1</td>\n",
              "      <td>1</td>\n",
              "      <td>1</td>\n",
              "      <td>1</td>\n",
              "      <td>Intermediate</td>\n",
              "    </tr>\n",
              "  </tbody>\n",
              "</table>\n",
              "</div>\n",
              "      <button class=\"colab-df-convert\" onclick=\"convertToInteractive('df-595262ed-0dc5-4618-88af-b8a7e3097219')\"\n",
              "              title=\"Convert this dataframe to an interactive table.\"\n",
              "              style=\"display:none;\">\n",
              "        \n",
              "  <svg xmlns=\"http://www.w3.org/2000/svg\" height=\"24px\"viewBox=\"0 0 24 24\"\n",
              "       width=\"24px\">\n",
              "    <path d=\"M0 0h24v24H0V0z\" fill=\"none\"/>\n",
              "    <path d=\"M18.56 5.44l.94 2.06.94-2.06 2.06-.94-2.06-.94-.94-2.06-.94 2.06-2.06.94zm-11 1L8.5 8.5l.94-2.06 2.06-.94-2.06-.94L8.5 2.5l-.94 2.06-2.06.94zm10 10l.94 2.06.94-2.06 2.06-.94-2.06-.94-.94-2.06-.94 2.06-2.06.94z\"/><path d=\"M17.41 7.96l-1.37-1.37c-.4-.4-.92-.59-1.43-.59-.52 0-1.04.2-1.43.59L10.3 9.45l-7.72 7.72c-.78.78-.78 2.05 0 2.83L4 21.41c.39.39.9.59 1.41.59.51 0 1.02-.2 1.41-.59l7.78-7.78 2.81-2.81c.8-.78.8-2.07 0-2.86zM5.41 20L4 18.59l7.72-7.72 1.47 1.35L5.41 20z\"/>\n",
              "  </svg>\n",
              "      </button>\n",
              "      \n",
              "  <style>\n",
              "    .colab-df-container {\n",
              "      display:flex;\n",
              "      flex-wrap:wrap;\n",
              "      gap: 12px;\n",
              "    }\n",
              "\n",
              "    .colab-df-convert {\n",
              "      background-color: #E8F0FE;\n",
              "      border: none;\n",
              "      border-radius: 50%;\n",
              "      cursor: pointer;\n",
              "      display: none;\n",
              "      fill: #1967D2;\n",
              "      height: 32px;\n",
              "      padding: 0 0 0 0;\n",
              "      width: 32px;\n",
              "    }\n",
              "\n",
              "    .colab-df-convert:hover {\n",
              "      background-color: #E2EBFA;\n",
              "      box-shadow: 0px 1px 2px rgba(60, 64, 67, 0.3), 0px 1px 3px 1px rgba(60, 64, 67, 0.15);\n",
              "      fill: #174EA6;\n",
              "    }\n",
              "\n",
              "    [theme=dark] .colab-df-convert {\n",
              "      background-color: #3B4455;\n",
              "      fill: #D2E3FC;\n",
              "    }\n",
              "\n",
              "    [theme=dark] .colab-df-convert:hover {\n",
              "      background-color: #434B5C;\n",
              "      box-shadow: 0px 1px 3px 1px rgba(0, 0, 0, 0.15);\n",
              "      filter: drop-shadow(0px 1px 2px rgba(0, 0, 0, 0.3));\n",
              "      fill: #FFFFFF;\n",
              "    }\n",
              "  </style>\n",
              "\n",
              "      <script>\n",
              "        const buttonEl =\n",
              "          document.querySelector('#df-595262ed-0dc5-4618-88af-b8a7e3097219 button.colab-df-convert');\n",
              "        buttonEl.style.display =\n",
              "          google.colab.kernel.accessAllowed ? 'block' : 'none';\n",
              "\n",
              "        async function convertToInteractive(key) {\n",
              "          const element = document.querySelector('#df-595262ed-0dc5-4618-88af-b8a7e3097219');\n",
              "          const dataTable =\n",
              "            await google.colab.kernel.invokeFunction('convertToInteractive',\n",
              "                                                     [key], {});\n",
              "          if (!dataTable) return;\n",
              "\n",
              "          const docLinkHtml = 'Like what you see? Visit the ' +\n",
              "            '<a target=\"_blank\" href=https://colab.research.google.com/notebooks/data_table.ipynb>data table notebook</a>'\n",
              "            + ' to learn more about interactive tables.';\n",
              "          element.innerHTML = '';\n",
              "          dataTable['output_type'] = 'display_data';\n",
              "          await google.colab.output.renderOutput(dataTable, element);\n",
              "          const docLink = document.createElement('div');\n",
              "          docLink.innerHTML = docLinkHtml;\n",
              "          element.appendChild(docLink);\n",
              "        }\n",
              "      </script>\n",
              "    </div>\n",
              "  </div>\n",
              "  "
            ]
          },
          "metadata": {},
          "execution_count": 12
        }
      ],
      "source": [
        "df.head()"
      ]
    },
    {
      "cell_type": "markdown",
      "id": "1291d54e",
      "metadata": {
        "papermill": {
          "duration": 0.013034,
          "end_time": "2022-11-16T11:03:11.046398",
          "exception": false,
          "start_time": "2022-11-16T11:03:11.033364",
          "status": "completed"
        },
        "tags": [],
        "id": "1291d54e"
      },
      "source": [
        "## Extracting Feature columns and target column"
      ]
    },
    {
      "cell_type": "code",
      "execution_count": 13,
      "id": "f568b150",
      "metadata": {
        "execution": {
          "iopub.execute_input": "2022-11-16T11:03:11.074300Z",
          "iopub.status.busy": "2022-11-16T11:03:11.073852Z",
          "iopub.status.idle": "2022-11-16T11:03:11.080213Z",
          "shell.execute_reply": "2022-11-16T11:03:11.079124Z"
        },
        "papermill": {
          "duration": 0.022986,
          "end_time": "2022-11-16T11:03:11.082343",
          "exception": false,
          "start_time": "2022-11-16T11:03:11.059357",
          "status": "completed"
        },
        "tags": [],
        "id": "f568b150"
      },
      "outputs": [],
      "source": [
        "X = df.iloc[:, 0:8]\n",
        "y = df['Knowledge Level']"
      ]
    },
    {
      "cell_type": "code",
      "execution_count": 14,
      "id": "e2ab3d04",
      "metadata": {
        "execution": {
          "iopub.execute_input": "2022-11-16T11:03:11.111043Z",
          "iopub.status.busy": "2022-11-16T11:03:11.110599Z",
          "iopub.status.idle": "2022-11-16T11:03:11.486517Z",
          "shell.execute_reply": "2022-11-16T11:03:11.485352Z"
        },
        "papermill": {
          "duration": 0.393192,
          "end_time": "2022-11-16T11:03:11.489213",
          "exception": false,
          "start_time": "2022-11-16T11:03:11.096021",
          "status": "completed"
        },
        "tags": [],
        "id": "e2ab3d04"
      },
      "outputs": [],
      "source": [
        "from sklearn.model_selection import train_test_split\n",
        "from sklearn.linear_model import LogisticRegression\n",
        "from sklearn.naive_bayes import MultinomialNB\n",
        "from sklearn.tree import DecisionTreeClassifier\n",
        "from sklearn.svm import SVC\n",
        "from sklearn.ensemble import RandomForestClassifier\n",
        "\n",
        "from sklearn.metrics import accuracy_score,confusion_matrix,classification_report"
      ]
    },
    {
      "cell_type": "markdown",
      "id": "dbaf2b45",
      "metadata": {
        "papermill": {
          "duration": 0.012948,
          "end_time": "2022-11-16T11:03:11.515385",
          "exception": false,
          "start_time": "2022-11-16T11:03:11.502437",
          "status": "completed"
        },
        "tags": [],
        "id": "dbaf2b45"
      },
      "source": [
        "### Spliting Dataset into train and test"
      ]
    },
    {
      "cell_type": "code",
      "execution_count": 15,
      "id": "b4fa5ecd",
      "metadata": {
        "execution": {
          "iopub.execute_input": "2022-11-16T11:03:11.543336Z",
          "iopub.status.busy": "2022-11-16T11:03:11.542894Z",
          "iopub.status.idle": "2022-11-16T11:03:11.553430Z",
          "shell.execute_reply": "2022-11-16T11:03:11.552615Z"
        },
        "papermill": {
          "duration": 0.026896,
          "end_time": "2022-11-16T11:03:11.555408",
          "exception": false,
          "start_time": "2022-11-16T11:03:11.528512",
          "status": "completed"
        },
        "tags": [],
        "id": "b4fa5ecd"
      },
      "outputs": [],
      "source": [
        "X_train,X_test,y_train,y_test = train_test_split(X,y,test_size = 0.2,stratify = y,random_state= 42)"
      ]
    },
    {
      "cell_type": "markdown",
      "id": "f9ba63c1",
      "metadata": {
        "papermill": {
          "duration": 0.012872,
          "end_time": "2022-11-16T11:03:11.581435",
          "exception": false,
          "start_time": "2022-11-16T11:03:11.568563",
          "status": "completed"
        },
        "tags": [],
        "id": "f9ba63c1"
      },
      "source": [
        "## Machine Learning"
      ]
    },
    {
      "cell_type": "markdown",
      "id": "f8aa7019",
      "metadata": {
        "papermill": {
          "duration": 0.012859,
          "end_time": "2022-11-16T11:03:11.607405",
          "exception": false,
          "start_time": "2022-11-16T11:03:11.594546",
          "status": "completed"
        },
        "tags": [],
        "id": "f8aa7019"
      },
      "source": [
        "### Logistic Regression"
      ]
    },
    {
      "cell_type": "code",
      "execution_count": 16,
      "id": "9c016792",
      "metadata": {
        "execution": {
          "iopub.execute_input": "2022-11-16T11:03:11.635738Z",
          "iopub.status.busy": "2022-11-16T11:03:11.634890Z",
          "iopub.status.idle": "2022-11-16T11:03:11.669981Z",
          "shell.execute_reply": "2022-11-16T11:03:11.668422Z"
        },
        "papermill": {
          "duration": 0.053813,
          "end_time": "2022-11-16T11:03:11.674375",
          "exception": false,
          "start_time": "2022-11-16T11:03:11.620562",
          "status": "completed"
        },
        "tags": [],
        "id": "9c016792"
      },
      "outputs": [],
      "source": [
        "clf_lr = LogisticRegression()\n",
        "clf_lr.fit(X_train,y_train)\n",
        "y_pred_lr = clf_lr.predict(X_test)"
      ]
    },
    {
      "cell_type": "code",
      "execution_count": 17,
      "id": "02930d08",
      "metadata": {
        "execution": {
          "iopub.execute_input": "2022-11-16T11:03:11.744360Z",
          "iopub.status.busy": "2022-11-16T11:03:11.743495Z",
          "iopub.status.idle": "2022-11-16T11:03:11.759200Z",
          "shell.execute_reply": "2022-11-16T11:03:11.757713Z"
        },
        "papermill": {
          "duration": 0.05543,
          "end_time": "2022-11-16T11:03:11.763685",
          "exception": false,
          "start_time": "2022-11-16T11:03:11.708255",
          "status": "completed"
        },
        "tags": [],
        "colab": {
          "base_uri": "https://localhost:8080/"
        },
        "id": "02930d08",
        "outputId": "0f61b6ec-fc5f-442d-891d-2d1a41d91918"
      },
      "outputs": [
        {
          "output_type": "stream",
          "name": "stdout",
          "text": [
            "0.8752079866888519\n"
          ]
        }
      ],
      "source": [
        "print(accuracy_score(y_test,y_pred_lr))"
      ]
    },
    {
      "cell_type": "code",
      "execution_count": 18,
      "id": "6c8d5f9d",
      "metadata": {
        "execution": {
          "iopub.execute_input": "2022-11-16T11:03:11.809682Z",
          "iopub.status.busy": "2022-11-16T11:03:11.808635Z",
          "iopub.status.idle": "2022-11-16T11:03:12.102435Z",
          "shell.execute_reply": "2022-11-16T11:03:12.101334Z"
        },
        "papermill": {
          "duration": 0.314316,
          "end_time": "2022-11-16T11:03:12.104611",
          "exception": false,
          "start_time": "2022-11-16T11:03:11.790295",
          "status": "completed"
        },
        "tags": [],
        "colab": {
          "base_uri": "https://localhost:8080/",
          "height": 429
        },
        "id": "6c8d5f9d",
        "outputId": "96a37d5e-4c2f-4aab-d301-0b7694a834ce"
      },
      "outputs": [
        {
          "output_type": "stream",
          "name": "stdout",
          "text": [
            "              precision    recall  f1-score   support\n",
            "\n",
            "    Beginner       0.93      0.85      0.89       343\n",
            "Intermediate       0.82      0.91      0.86       258\n",
            "\n",
            "    accuracy                           0.88       601\n",
            "   macro avg       0.87      0.88      0.87       601\n",
            "weighted avg       0.88      0.88      0.88       601\n",
            "\n"
          ]
        },
        {
          "output_type": "display_data",
          "data": {
            "text/plain": [
              "<Figure size 432x288 with 2 Axes>"
            ],
            "image/png": "[encoded data removed]"
          },
          "metadata": {
            "needs_background": "light"
          }
        }
      ],
      "source": [
        "labels = ['Beginner','Intermediate']\n",
        "sns.heatmap(confusion_matrix(y_test,y_pred_lr),xticklabels = labels,yticklabels = labels,annot = True,fmt='d')\n",
        "print(classification_report(y_test,y_pred_lr))"
      ]
    },
    {
      "cell_type": "markdown",
      "id": "aa42d8f2",
      "metadata": {
        "papermill": {
          "duration": 0.013027,
          "end_time": "2022-11-16T11:03:12.131521",
          "exception": false,
          "start_time": "2022-11-16T11:03:12.118494",
          "status": "completed"
        },
        "tags": [],
        "id": "aa42d8f2"
      },
      "source": [
        "### Naive Bayes"
      ]
    },
    {
      "cell_type": "code",
      "execution_count": 19,
      "id": "4d969079",
      "metadata": {
        "execution": {
          "iopub.execute_input": "2022-11-16T11:03:12.160673Z",
          "iopub.status.busy": "2022-11-16T11:03:12.159755Z",
          "iopub.status.idle": "2022-11-16T11:03:12.174835Z",
          "shell.execute_reply": "2022-11-16T11:03:12.173924Z"
        },
        "papermill": {
          "duration": 0.032727,
          "end_time": "2022-11-16T11:03:12.177243",
          "exception": false,
          "start_time": "2022-11-16T11:03:12.144516",
          "status": "completed"
        },
        "tags": [],
        "id": "4d969079"
      },
      "outputs": [],
      "source": [
        "clf_nb = MultinomialNB()\n",
        "clf_nb.fit(X_train,y_train)\n",
        "y_pred_nb = clf_nb.predict(X_test)"
      ]
    },
    {
      "cell_type": "code",
      "execution_count": 20,
      "id": "e4d77aa4",
      "metadata": {
        "execution": {
          "iopub.execute_input": "2022-11-16T11:03:12.206424Z",
          "iopub.status.busy": "2022-11-16T11:03:12.206039Z",
          "iopub.status.idle": "2022-11-16T11:03:12.470052Z",
          "shell.execute_reply": "2022-11-16T11:03:12.468950Z"
        },
        "papermill": {
          "duration": 0.281451,
          "end_time": "2022-11-16T11:03:12.472457",
          "exception": false,
          "start_time": "2022-11-16T11:03:12.191006",
          "status": "completed"
        },
        "tags": [],
        "colab": {
          "base_uri": "https://localhost:8080/",
          "height": 484
        },
        "id": "e4d77aa4",
        "outputId": "c7a7258b-9725-46a8-c6ad-6da3709166e9"
      },
      "outputs": [
        {
          "output_type": "stream",
          "name": "stdout",
          "text": [
            "Accuracy: 0.7703826955074875\n",
            "\n",
            "Classification Report: \n",
            "               precision    recall  f1-score   support\n",
            "\n",
            "    Beginner       0.78      0.83      0.81       343\n",
            "Intermediate       0.76      0.69      0.72       258\n",
            "\n",
            "    accuracy                           0.77       601\n",
            "   macro avg       0.77      0.76      0.76       601\n",
            "weighted avg       0.77      0.77      0.77       601\n",
            "\n"
          ]
        },
        {
          "output_type": "display_data",
          "data": {
            "text/plain": [
              "<Figure size 432x288 with 2 Axes>"
            ],
            "image/png": "[encoded data removed]"
          },
          "metadata": {
            "needs_background": "light"
          }
        }
      ],
      "source": [
        "print(f'Accuracy: {accuracy_score(y_test,y_pred_nb)}\\n')\n",
        "sns.heatmap(confusion_matrix(y_test,y_pred_nb),xticklabels = labels,yticklabels = labels,annot = True,fmt='d')\n",
        "print(f'Classification Report: \\n {classification_report(y_test,y_pred_nb)}')"
      ]
    },
    {
      "cell_type": "markdown",
      "id": "cd1c4cd7",
      "metadata": {
        "papermill": {
          "duration": 0.013631,
          "end_time": "2022-11-16T11:03:12.500495",
          "exception": false,
          "start_time": "2022-11-16T11:03:12.486864",
          "status": "completed"
        },
        "tags": [],
        "id": "cd1c4cd7"
      },
      "source": [
        "### SVM"
      ]
    },
    {
      "cell_type": "code",
      "execution_count": 21,
      "id": "ff8941d7",
      "metadata": {
        "execution": {
          "iopub.execute_input": "2022-11-16T11:03:12.529813Z",
          "iopub.status.busy": "2022-11-16T11:03:12.529419Z",
          "iopub.status.idle": "2022-11-16T11:03:12.629059Z",
          "shell.execute_reply": "2022-11-16T11:03:12.627770Z"
        },
        "papermill": {
          "duration": 0.117217,
          "end_time": "2022-11-16T11:03:12.631626",
          "exception": false,
          "start_time": "2022-11-16T11:03:12.514409",
          "status": "completed"
        },
        "tags": [],
        "id": "ff8941d7"
      },
      "outputs": [],
      "source": [
        "clf_svc = SVC()\n",
        "clf_svc.fit(X_train,y_train)\n",
        "y_pred_svc = clf_svc.predict(X_test)"
      ]
    },
    {
      "cell_type": "code",
      "execution_count": 22,
      "id": "a6df221d",
      "metadata": {
        "execution": {
          "iopub.execute_input": "2022-11-16T11:03:12.661587Z",
          "iopub.status.busy": "2022-11-16T11:03:12.660800Z",
          "iopub.status.idle": "2022-11-16T11:03:12.937319Z",
          "shell.execute_reply": "2022-11-16T11:03:12.935169Z"
        },
        "papermill": {
          "duration": 0.294252,
          "end_time": "2022-11-16T11:03:12.940051",
          "exception": false,
          "start_time": "2022-11-16T11:03:12.645799",
          "status": "completed"
        },
        "tags": [],
        "colab": {
          "base_uri": "https://localhost:8080/",
          "height": 484
        },
        "id": "a6df221d",
        "outputId": "6d3300a6-a7ed-415f-ec16-b87c23de8828"
      },
      "outputs": [
        {
          "output_type": "stream",
          "name": "stdout",
          "text": [
            "Accuracy: 0.9284525790349417\n",
            "\n",
            "Classification Report: \n",
            "               precision    recall  f1-score   support\n",
            "\n",
            "    Beginner       0.94      0.94      0.94       343\n",
            "Intermediate       0.92      0.91      0.92       258\n",
            "\n",
            "    accuracy                           0.93       601\n",
            "   macro avg       0.93      0.93      0.93       601\n",
            "weighted avg       0.93      0.93      0.93       601\n",
            "\n"
          ]
        },
        {
          "output_type": "display_data",
          "data": {
            "text/plain": [
              "<Figure size 432x288 with 2 Axes>"
            ],
            "image/png": "[encoded data removed]"
          },
          "metadata": {
            "needs_background": "light"
          }
        }
      ],
      "source": [
        "print(f'Accuracy: {accuracy_score(y_test,y_pred_svc)}\\n')\n",
        "sns.heatmap(confusion_matrix(y_test,y_pred_svc),xticklabels = labels,yticklabels = labels,annot = True,fmt='d')\n",
        "print(f'Classification Report: \\n {classification_report(y_test,y_pred_svc)}')"
      ]
    },
    {
      "cell_type": "markdown",
      "id": "f77c028f",
      "metadata": {
        "papermill": {
          "duration": 0.01396,
          "end_time": "2022-11-16T11:03:12.968338",
          "exception": false,
          "start_time": "2022-11-16T11:03:12.954378",
          "status": "completed"
        },
        "tags": [],
        "id": "f77c028f"
      },
      "source": [
        "### Decison Tree"
      ]
    },
    {
      "cell_type": "code",
      "execution_count": 23,
      "id": "84b029e2",
      "metadata": {
        "execution": {
          "iopub.execute_input": "2022-11-16T11:03:12.998919Z",
          "iopub.status.busy": "2022-11-16T11:03:12.998136Z",
          "iopub.status.idle": "2022-11-16T11:03:13.010840Z",
          "shell.execute_reply": "2022-11-16T11:03:13.009891Z"
        },
        "papermill": {
          "duration": 0.030873,
          "end_time": "2022-11-16T11:03:13.013306",
          "exception": false,
          "start_time": "2022-11-16T11:03:12.982433",
          "status": "completed"
        },
        "tags": [],
        "id": "84b029e2"
      },
      "outputs": [],
      "source": [
        "clf_dt = DecisionTreeClassifier()\n",
        "clf_dt.fit(X_train,y_train)\n",
        "y_pred_dt = clf_dt.predict(X_test)"
      ]
    },
    {
      "cell_type": "code",
      "execution_count": 24,
      "id": "90c0e3e3",
      "metadata": {
        "execution": {
          "iopub.execute_input": "2022-11-16T11:03:13.044023Z",
          "iopub.status.busy": "2022-11-16T11:03:13.043613Z",
          "iopub.status.idle": "2022-11-16T11:03:13.320679Z",
          "shell.execute_reply": "2022-11-16T11:03:13.319723Z"
        },
        "papermill": {
          "duration": 0.295444,
          "end_time": "2022-11-16T11:03:13.323043",
          "exception": false,
          "start_time": "2022-11-16T11:03:13.027599",
          "status": "completed"
        },
        "tags": [],
        "colab": {
          "base_uri": "https://localhost:8080/",
          "height": 484
        },
        "id": "90c0e3e3",
        "outputId": "f88a90b6-9690-42f5-98e8-55c96836df7a"
      },
      "outputs": [
        {
          "output_type": "stream",
          "name": "stdout",
          "text": [
            "Accuracy: 0.9317803660565723\n",
            "\n",
            "Classification Report: \n",
            "               precision    recall  f1-score   support\n",
            "\n",
            "    Beginner       0.94      0.94      0.94       343\n",
            "Intermediate       0.92      0.92      0.92       258\n",
            "\n",
            "    accuracy                           0.93       601\n",
            "   macro avg       0.93      0.93      0.93       601\n",
            "weighted avg       0.93      0.93      0.93       601\n",
            "\n"
          ]
        },
        {
          "output_type": "display_data",
          "data": {
            "text/plain": [
              "<Figure size 432x288 with 2 Axes>"
            ],
            "image/png": "[encoded data removed]"
          },
          "metadata": {
            "needs_background": "light"
          }
        }
      ],
      "source": [
        "print(f'Accuracy: {accuracy_score(y_test,y_pred_dt)}\\n')\n",
        "sns.heatmap(confusion_matrix(y_test,y_pred_dt),xticklabels = labels,yticklabels = labels,annot = True,fmt='d')\n",
        "print(f'Classification Report: \\n {classification_report(y_test,y_pred_dt)}')"
      ]
    },
    {
      "cell_type": "markdown",
      "id": "c30da62c",
      "metadata": {
        "papermill": {
          "duration": 0.014131,
          "end_time": "2022-11-16T11:03:13.352136",
          "exception": false,
          "start_time": "2022-11-16T11:03:13.338005",
          "status": "completed"
        },
        "tags": [],
        "id": "c30da62c"
      },
      "source": [
        "### Random Forest"
      ]
    },
    {
      "cell_type": "code",
      "execution_count": 25,
      "id": "6a60197c",
      "metadata": {
        "execution": {
          "iopub.execute_input": "2022-11-16T11:03:13.382919Z",
          "iopub.status.busy": "2022-11-16T11:03:13.382459Z",
          "iopub.status.idle": "2022-11-16T11:03:13.624303Z",
          "shell.execute_reply": "2022-11-16T11:03:13.623068Z"
        },
        "papermill": {
          "duration": 0.260486,
          "end_time": "2022-11-16T11:03:13.626995",
          "exception": false,
          "start_time": "2022-11-16T11:03:13.366509",
          "status": "completed"
        },
        "tags": [],
        "id": "6a60197c"
      },
      "outputs": [],
      "source": [
        "clf_rf = RandomForestClassifier()\n",
        "clf_rf.fit(X_train,y_train)\n",
        "y_pred_rf = clf_rf.predict(X_test)"
      ]
    },
    {
      "cell_type": "code",
      "execution_count": 26,
      "id": "17760c21",
      "metadata": {
        "execution": {
          "iopub.execute_input": "2022-11-16T11:03:13.657842Z",
          "iopub.status.busy": "2022-11-16T11:03:13.656708Z",
          "iopub.status.idle": "2022-11-16T11:03:13.934990Z",
          "shell.execute_reply": "2022-11-16T11:03:13.933936Z"
        },
        "papermill": {
          "duration": 0.296127,
          "end_time": "2022-11-16T11:03:13.937409",
          "exception": false,
          "start_time": "2022-11-16T11:03:13.641282",
          "status": "completed"
        },
        "tags": [],
        "colab": {
          "base_uri": "https://localhost:8080/",
          "height": 484
        },
        "id": "17760c21",
        "outputId": "bc44fc72-c2ec-4e71-98dd-0198264c3f38"
      },
      "outputs": [
        {
          "output_type": "stream",
          "name": "stdout",
          "text": [
            "Accuracy: 0.9351081530782029\n",
            "\n",
            "Classification Report: \n",
            "               precision    recall  f1-score   support\n",
            "\n",
            "    Beginner       0.95      0.94      0.94       343\n",
            "Intermediate       0.92      0.93      0.92       258\n",
            "\n",
            "    accuracy                           0.94       601\n",
            "   macro avg       0.93      0.93      0.93       601\n",
            "weighted avg       0.94      0.94      0.94       601\n",
            "\n"
          ]
        },
        {
          "output_type": "display_data",
          "data": {
            "text/plain": [
              "<Figure size 432x288 with 2 Axes>"
            ],
            "image/png": "[encoded data removed]"
          },
          "metadata": {
            "needs_background": "light"
          }
        }
      ],
      "source": [
        "print(f'Accuracy: {accuracy_score(y_test,y_pred_rf)}\\n')\n",
        "sns.heatmap(confusion_matrix(y_test,y_pred_rf),xticklabels = labels,yticklabels = labels,annot = True,fmt='d')\n",
        "print(f'Classification Report: \\n {classification_report(y_test,y_pred_rf)}')"
      ]
    },
    {
      "cell_type": "markdown",
      "id": "41fedd3b",
      "metadata": {
        "papermill": {
          "duration": 0.014542,
          "end_time": "2022-11-16T11:03:13.967594",
          "exception": false,
          "start_time": "2022-11-16T11:03:13.953052",
          "status": "completed"
        },
        "tags": [],
        "id": "41fedd3b"
      },
      "source": [
        "## ML Models performance Visualization"
      ]
    },
    {
      "cell_type": "code",
      "execution_count": 27,
      "id": "65462433",
      "metadata": {
        "execution": {
          "iopub.execute_input": "2022-11-16T11:03:13.999080Z",
          "iopub.status.busy": "2022-11-16T11:03:13.998645Z",
          "iopub.status.idle": "2022-11-16T11:03:14.011139Z",
          "shell.execute_reply": "2022-11-16T11:03:14.010242Z"
        },
        "papermill": {
          "duration": 0.030935,
          "end_time": "2022-11-16T11:03:14.013325",
          "exception": false,
          "start_time": "2022-11-16T11:03:13.982390",
          "status": "completed"
        },
        "tags": [],
        "id": "65462433"
      },
      "outputs": [],
      "source": [
        "acc_dict = {'LR':accuracy_score(y_test,y_pred_lr),\n",
        "            'MNB':accuracy_score(y_test,y_pred_nb),\n",
        "            'SVM':accuracy_score(y_test,y_pred_svc),\n",
        "            'RF':accuracy_score(y_test,y_pred_rf),\n",
        "            'DT':accuracy_score(y_test,y_pred_dt)}"
      ]
    },
    {
      "cell_type": "code",
      "execution_count": 28,
      "id": "a1a63577",
      "metadata": {
        "execution": {
          "iopub.execute_input": "2022-11-16T11:03:14.045953Z",
          "iopub.status.busy": "2022-11-16T11:03:14.045254Z",
          "iopub.status.idle": "2022-11-16T11:03:14.050777Z",
          "shell.execute_reply": "2022-11-16T11:03:14.049520Z"
        },
        "papermill": {
          "duration": 0.024267,
          "end_time": "2022-11-16T11:03:14.052862",
          "exception": false,
          "start_time": "2022-11-16T11:03:14.028595",
          "status": "completed"
        },
        "tags": [],
        "id": "a1a63577"
      },
      "outputs": [],
      "source": [
        "algorithms = list(acc_dict.keys())\n",
        "acc_score = list(acc_dict.values())"
      ]
    },
    {
      "cell_type": "code",
      "execution_count": 29,
      "id": "52877ed5",
      "metadata": {
        "execution": {
          "iopub.execute_input": "2022-11-16T11:03:14.085785Z",
          "iopub.status.busy": "2022-11-16T11:03:14.084577Z",
          "iopub.status.idle": "2022-11-16T11:03:14.283946Z",
          "shell.execute_reply": "2022-11-16T11:03:14.282957Z"
        },
        "papermill": {
          "duration": 0.218579,
          "end_time": "2022-11-16T11:03:14.286512",
          "exception": false,
          "start_time": "2022-11-16T11:03:14.067933",
          "status": "completed"
        },
        "tags": [],
        "colab": {
          "base_uri": "https://localhost:8080/",
          "height": 404
        },
        "id": "52877ed5",
        "outputId": "00dfa041-cf79-48f9-9a34-0ed7e9ca3023"
      },
      "outputs": [
        {
          "output_type": "display_data",
          "data": {
            "text/plain": [
              "<Figure size 720x432 with 1 Axes>"
            ],
            "image/png": "[encoded data removed]"
          },
          "metadata": {
            "needs_background": "light"
          }
        }
      ],
      "source": [
        "plt.figure(figsize=(10,6))\n",
        "plt.bar(algorithms,\n",
        "        acc_score,\n",
        "        color = ['cyan', 'lime','blue', 'orange','darkcyan'],\n",
        "        width = 0.4)\n",
        "plt.xlabel(\"Name of Algorithms\")\n",
        "plt.ylabel(\"Accuracy Score\")\n",
        "plt.title(\"Evaluation of accuracy score\")\n",
        "plt.show()"
      ]
    },
    {
      "cell_type": "markdown",
      "id": "847c49bc",
      "metadata": {
        "papermill": {
          "duration": 0.02152,
          "end_time": "2022-11-16T11:03:26.496975",
          "exception": false,
          "start_time": "2022-11-16T11:03:26.475455",
          "status": "completed"
        },
        "tags": [],
        "id": "847c49bc"
      },
      "source": [
        "## Saving the best model"
      ]
    },
    {
      "cell_type": "code",
      "execution_count": 30,
      "id": "71729bca",
      "metadata": {
        "execution": {
          "iopub.execute_input": "2022-11-16T11:03:26.543661Z",
          "iopub.status.busy": "2022-11-16T11:03:26.542533Z",
          "iopub.status.idle": "2022-11-16T11:03:26.555466Z",
          "shell.execute_reply": "2022-11-16T11:03:26.554389Z"
        },
        "papermill": {
          "duration": 0.039178,
          "end_time": "2022-11-16T11:03:26.557924",
          "exception": false,
          "start_time": "2022-11-16T11:03:26.518746",
          "status": "completed"
        },
        "tags": [],
        "id": "71729bca"
      },
      "outputs": [],
      "source": [
        "import pickle\n",
        "pickle.dump(clf_rf, open('model_file.pkl', 'wb'))"
      ]
    },
    {
      "cell_type": "code",
      "execution_count": 31,
      "id": "c85e3f4b",
      "metadata": {
        "execution": {
          "iopub.execute_input": "2022-11-16T11:03:26.604424Z",
          "iopub.status.busy": "2022-11-16T11:03:26.603258Z",
          "iopub.status.idle": "2022-11-16T11:03:26.614074Z",
          "shell.execute_reply": "2022-11-16T11:03:26.613207Z"
        },
        "papermill": {
          "duration": 0.036439,
          "end_time": "2022-11-16T11:03:26.616464",
          "exception": false,
          "start_time": "2022-11-16T11:03:26.580025",
          "status": "completed"
        },
        "tags": [],
        "id": "c85e3f4b"
      },
      "outputs": [],
      "source": [
        "pickled_model = pickle.load(open('model_file.pkl', 'rb'))"
      ]
    },
    {
      "cell_type": "markdown",
      "id": "ee20c60e",
      "metadata": {
        "papermill": {
          "duration": 0.021574,
          "end_time": "2022-11-16T11:03:26.660147",
          "exception": false,
          "start_time": "2022-11-16T11:03:26.638573",
          "status": "completed"
        },
        "tags": [],
        "id": "ee20c60e"
      },
      "source": [
        "## Get prediction from user input"
      ]
    },
    {
      "cell_type": "code",
      "execution_count": 32,
      "id": "3e000ae0",
      "metadata": {
        "execution": {
          "iopub.execute_input": "2022-11-16T11:03:26.706047Z",
          "iopub.status.busy": "2022-11-16T11:03:26.705050Z",
          "iopub.status.idle": "2022-11-16T11:03:26.709813Z",
          "shell.execute_reply": "2022-11-16T11:03:26.709045Z"
        },
        "papermill": {
          "duration": 0.029957,
          "end_time": "2022-11-16T11:03:26.711848",
          "exception": false,
          "start_time": "2022-11-16T11:03:26.681891",
          "status": "completed"
        },
        "tags": [],
        "id": "3e000ae0"
      },
      "outputs": [],
      "source": [
        "X_new = np.array([[1,0,0,0,1,1,1,1]])"
      ]
    },
    {
      "cell_type": "code",
      "execution_count": 33,
      "id": "f94f67ed",
      "metadata": {
        "execution": {
          "iopub.execute_input": "2022-11-16T11:03:26.757393Z",
          "iopub.status.busy": "2022-11-16T11:03:26.756812Z",
          "iopub.status.idle": "2022-11-16T11:03:26.774793Z",
          "shell.execute_reply": "2022-11-16T11:03:26.773974Z"
        },
        "papermill": {
          "duration": 0.043718,
          "end_time": "2022-11-16T11:03:26.777217",
          "exception": false,
          "start_time": "2022-11-16T11:03:26.733499",
          "status": "completed"
        },
        "tags": [],
        "colab": {
          "base_uri": "https://localhost:8080/"
        },
        "id": "f94f67ed",
        "outputId": "89297846-d1e3-468d-c45e-bcee059ff831"
      },
      "outputs": [
        {
          "output_type": "stream",
          "name": "stdout",
          "text": [
            "Intermediate\n"
          ]
        },
        {
          "output_type": "stream",
          "name": "stderr",
          "text": [
            "/usr/local/lib/python3.7/dist-packages/sklearn/base.py:451: UserWarning: X does not have valid feature names, but RandomForestClassifier was fitted with feature names\n",
            "  \"X does not have valid feature names, but\"\n"
          ]
        }
      ],
      "source": [
        "print(pickled_model.predict(X_new)[0])"
      ]
    }
  ],
  "metadata": {
    "kernelspec": {
      "display_name": "Python 3",
      "language": "python",
      "name": "python3"
    },
    "language_info": {
      "codemirror_mode": {
        "name": "ipython",
        "version": 3
      },
      "file_extension": ".py",
      "mimetype": "text/x-python",
      "name": "python",
      "nbconvert_exporter": "python",
      "pygments_lexer": "ipython3",
      "version": "3.7.12"
    },
    "papermill": {
      "default_parameters": {},
      "duration": 29.184106,
      "end_time": "2022-11-16T11:03:29.879282",
      "environment_variables": {},
      "exception": null,
      "input_path": "__notebook__.ipynb",
      "output_path": "__notebook__.ipynb",
      "parameters": {},
      "start_time": "2022-11-16T11:03:00.695176",
      "version": "2.3.4"
    },
    "colab": {
      "provenance": []
    }
  },
  "nbformat": 4,
  "nbformat_minor": 5
}